{
 "cells": [
  {
   "cell_type": "code",
   "execution_count": 1,
   "metadata": {},
   "outputs": [],
   "source": [
    "import cv2\n",
    "import numpy as np\n",
    "import pandas as pd\n",
    "import matplotlib.pyplot as plt\n",
    "import os\n",
    "import re\n",
    "import shutil"
   ]
  },
  {
   "cell_type": "code",
   "execution_count": 2,
   "metadata": {},
   "outputs": [],
   "source": [
    "#Obtenemos el nombre de las carpetas existentes en la carpeta faces\n",
    "carpetas = os.listdir('faces')"
   ]
  },
  {
   "cell_type": "code",
   "execution_count": 3,
   "metadata": {},
   "outputs": [],
   "source": [
    "#Creamos un array donde se guardara un 1 si la imagen tiene gafas y un 0 si no las tiene\n",
    "gafas = []"
   ]
  },
  {
   "cell_type": "code",
   "execution_count": 4,
   "metadata": {},
   "outputs": [],
   "source": [
    "#Creamos el directorio donde se guardaran las nuevas imagenes\n",
    "os.makedirs('imagenes', exist_ok=True)"
   ]
  },
  {
   "cell_type": "code",
   "execution_count": 5,
   "metadata": {},
   "outputs": [],
   "source": [
    "#Iteramos sobre las carpetas y extraemos las imagenes que no tengan gafas y las que si, ademas de guardar el valor en el array gafas\n",
    "cont = 0\n",
    "for i in carpetas:\n",
    "  archivo_carpeta = os.listdir(f'faces/{i}')\n",
    "  for archivos in archivo_carpeta:\n",
    "    if not re.search(r'(2|4)\\.pgm$', archivos):\n",
    "      if re.search(r'sunglasses.pgm$', archivos):\n",
    "        shutil.copy(f'faces/{i}/{archivos}', f'imagenes/{archivos}')\n",
    "        gafas.append(1)\n",
    "      elif re.search(r'\\.bad$', archivos):\n",
    "        continue\n",
    "      else:\n",
    "        shutil.copy(f'faces/{i}/{archivos}', f'imagenes/{archivos}')\n",
    "        gafas.append(0)"
   ]
  },
  {
   "cell_type": "code",
   "execution_count": 6,
   "metadata": {},
   "outputs": [],
   "source": [
    "#Creamos el dataframe con los datos obtenidos\n",
    "df = pd.DataFrame({'Image': os.listdir('imagenes'), 'Sunglasses': gafas})"
   ]
  },
  {
   "cell_type": "code",
   "execution_count": 7,
   "metadata": {},
   "outputs": [
    {
     "data": {
      "text/html": [
       "<div>\n",
       "<style scoped>\n",
       "    .dataframe tbody tr th:only-of-type {\n",
       "        vertical-align: middle;\n",
       "    }\n",
       "\n",
       "    .dataframe tbody tr th {\n",
       "        vertical-align: top;\n",
       "    }\n",
       "\n",
       "    .dataframe thead th {\n",
       "        text-align: right;\n",
       "    }\n",
       "</style>\n",
       "<table border=\"1\" class=\"dataframe\">\n",
       "  <thead>\n",
       "    <tr style=\"text-align: right;\">\n",
       "      <th></th>\n",
       "      <th>Image</th>\n",
       "      <th>Sunglasses</th>\n",
       "    </tr>\n",
       "  </thead>\n",
       "  <tbody>\n",
       "    <tr>\n",
       "      <th>0</th>\n",
       "      <td>an2i_left_angry_open.pgm</td>\n",
       "      <td>0</td>\n",
       "    </tr>\n",
       "    <tr>\n",
       "      <th>1</th>\n",
       "      <td>an2i_left_angry_sunglasses.pgm</td>\n",
       "      <td>1</td>\n",
       "    </tr>\n",
       "    <tr>\n",
       "      <th>2</th>\n",
       "      <td>an2i_left_happy_open.pgm</td>\n",
       "      <td>0</td>\n",
       "    </tr>\n",
       "    <tr>\n",
       "      <th>3</th>\n",
       "      <td>an2i_left_happy_sunglasses.pgm</td>\n",
       "      <td>1</td>\n",
       "    </tr>\n",
       "    <tr>\n",
       "      <th>4</th>\n",
       "      <td>an2i_left_neutral_open.pgm</td>\n",
       "      <td>0</td>\n",
       "    </tr>\n",
       "  </tbody>\n",
       "</table>\n",
       "</div>"
      ],
      "text/plain": [
       "                            Image  Sunglasses\n",
       "0        an2i_left_angry_open.pgm           0\n",
       "1  an2i_left_angry_sunglasses.pgm           1\n",
       "2        an2i_left_happy_open.pgm           0\n",
       "3  an2i_left_happy_sunglasses.pgm           1\n",
       "4      an2i_left_neutral_open.pgm           0"
      ]
     },
     "execution_count": 7,
     "metadata": {},
     "output_type": "execute_result"
    }
   ],
   "source": [
    "#Observamos las primeras entradas del dataframe\n",
    "df.head()"
   ]
  },
  {
   "cell_type": "code",
   "execution_count": 8,
   "metadata": {},
   "outputs": [],
   "source": [
    "#Guardamos el dataframe en un csv\n",
    "df.to_csv('data_imagenes.csv', index=False)"
   ]
  },
  {
   "cell_type": "code",
   "execution_count": 1,
   "metadata": {},
   "outputs": [
    {
     "ename": "NameError",
     "evalue": "name 'plt' is not defined",
     "output_type": "error",
     "traceback": [
      "\u001b[1;31m---------------------------------------------------------------------------\u001b[0m",
      "\u001b[1;31mNameError\u001b[0m                                 Traceback (most recent call last)",
      "\u001b[1;32mc:\\Users\\dgilr\\OneDrive\\Escritorio\\Semestre 6\\Fundamentos de analitica\\proyecto3-analitica\\crear_dataframe.ipynb Cell 9\u001b[0m line \u001b[0;36m2\n\u001b[0;32m      <a href='vscode-notebook-cell:/c%3A/Users/dgilr/OneDrive/Escritorio/Semestre%206/Fundamentos%20de%20analitica/proyecto3-analitica/crear_dataframe.ipynb#X23sZmlsZQ%3D%3D?line=0'>1</a>\u001b[0m \u001b[39m#Graficamos una muestra aleatoria de 9 imagenes para comprobar que se hizo el etiquetado correctamente\u001b[39;00m\n\u001b[1;32m----> <a href='vscode-notebook-cell:/c%3A/Users/dgilr/OneDrive/Escritorio/Semestre%206/Fundamentos%20de%20analitica/proyecto3-analitica/crear_dataframe.ipynb#X23sZmlsZQ%3D%3D?line=1'>2</a>\u001b[0m fig, ax \u001b[39m=\u001b[39m plt\u001b[39m.\u001b[39msubplots(\u001b[39m3\u001b[39m,\u001b[39m3\u001b[39m ,figsize\u001b[39m=\u001b[39m(\u001b[39m17\u001b[39m,\u001b[39m17\u001b[39m))\n\u001b[0;32m      <a href='vscode-notebook-cell:/c%3A/Users/dgilr/OneDrive/Escritorio/Semestre%206/Fundamentos%20de%20analitica/proyecto3-analitica/crear_dataframe.ipynb#X23sZmlsZQ%3D%3D?line=2'>3</a>\u001b[0m \u001b[39mfor\u001b[39;00m i \u001b[39min\u001b[39;00m ax\u001b[39m.\u001b[39mflatten():\n\u001b[0;32m      <a href='vscode-notebook-cell:/c%3A/Users/dgilr/OneDrive/Escritorio/Semestre%206/Fundamentos%20de%20analitica/proyecto3-analitica/crear_dataframe.ipynb#X23sZmlsZQ%3D%3D?line=3'>4</a>\u001b[0m   nombre, etiqueta \u001b[39m=\u001b[39m df\u001b[39m.\u001b[39msample()\u001b[39m.\u001b[39mvalues[\u001b[39m0\u001b[39m]\n",
      "\u001b[1;31mNameError\u001b[0m: name 'plt' is not defined"
     ]
    }
   ],
   "source": [
    "#Graficamos una muestra aleatoria de 9 imagenes para comprobar que se hizo el etiquetado correctamente\n",
    "fig, ax = plt.subplots(3,3 ,figsize=(17,17))\n",
    "for i in ax.flatten():\n",
    "  nombre, etiqueta = df.sample().values[0]\n",
    "  img = cv2.imread(f'imagenes/{nombre}')\n",
    "  i.imshow(img)\n",
    "  i.title.set_text(f'{nombre} - {etiqueta}')"
   ]
  }
 ],
 "metadata": {
  "kernelspec": {
   "display_name": "Python 3",
   "language": "python",
   "name": "python3"
  },
  "language_info": {
   "codemirror_mode": {
    "name": "ipython",
    "version": 3
   },
   "file_extension": ".py",
   "mimetype": "text/x-python",
   "name": "python",
   "nbconvert_exporter": "python",
   "pygments_lexer": "ipython3",
   "version": "3.11.5"
  }
 },
 "nbformat": 4,
 "nbformat_minor": 2
}

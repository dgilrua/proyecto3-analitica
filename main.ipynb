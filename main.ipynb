{
 "cells": [
  {
   "cell_type": "code",
   "execution_count": 93,
   "metadata": {},
   "outputs": [],
   "source": [
    "import cv2\n",
    "import numpy as np\n",
    "import pandas as pd\n",
    "import matplotlib.pyplot as plt\n",
    "import os\n",
    "import re\n",
    "import shutil"
   ]
  },
  {
   "cell_type": "code",
   "execution_count": 94,
   "metadata": {},
   "outputs": [],
   "source": [
    "#Obtenemos el nombre de las carpetas existentes en la carpeta faces\n",
    "carpetas = os.listdir('faces')"
   ]
  },
  {
   "cell_type": "code",
   "execution_count": 95,
   "metadata": {},
   "outputs": [],
   "source": [
    "#Creamos un array donde se guardara un 1 si la imagen tiene gafas y un 0 si no las tiene\n",
    "gafas = []"
   ]
  },
  {
   "cell_type": "code",
   "execution_count": 96,
   "metadata": {},
   "outputs": [],
   "source": [
    "#Creamos el directorio donde se guardaran las nuevas imagenes\n",
    "os.makedirs('imagenes', exist_ok=True)"
   ]
  },
  {
   "cell_type": "code",
   "execution_count": 97,
   "metadata": {},
   "outputs": [],
   "source": [
    "#Iteramos sobre las carpetas y extraemos las imagenes que no tengan gafas y las que si, ademas de guardar el valor en el array gafas\n",
    "cont = 0\n",
    "for i in carpetas:\n",
    "  archivo_carpeta = os.listdir(f'faces/{i}')\n",
    "  for archivos in archivo_carpeta:\n",
    "    if not re.search(r'(2|4)\\.pgm$', archivos):\n",
    "      if re.search(r'sunglasses.pgm$', archivos):\n",
    "        shutil.copy(f'faces/{i}/{archivos}', f'imagenes/imagen_{cont}.pgm')\n",
    "        gafas.append(1)\n",
    "      elif re.search(r'\\.bad$', archivos):\n",
    "        continue\n",
    "      else:\n",
    "        shutil.copy(f'faces/{i}/{archivos}', f'imagenes/imagen_{cont}.pgm')\n",
    "        gafas.append(0)\n",
    "      cont += 1"
   ]
  },
  {
   "cell_type": "code",
   "execution_count": 118,
   "metadata": {},
   "outputs": [],
   "source": [
    "#Creamos el dataframe con los datos obtenidos\n",
    "df = pd.DataFrame({'Image': os.listdir('imagenes'), 'Sunglasses': gafas})"
   ]
  },
  {
   "cell_type": "code",
   "execution_count": 126,
   "metadata": {},
   "outputs": [],
   "source": [
    "#Guardamos el dataframe en un csv\n",
    "df.to_csv('data_imagenes.csv', index=False)"
   ]
  },
  {
   "cell_type": "code",
   "execution_count": 125,
   "metadata": {},
   "outputs": [
    {
     "data": {
      "text/plain": [
       "array([['imagen_77.pgm', 1],\n",
       "       ['imagen_480.pgm', 0],\n",
       "       ['imagen_388.pgm', 0],\n",
       "       ['imagen_383.pgm', 1],\n",
       "       ['imagen_415.pgm', 0],\n",
       "       ['imagen_473.pgm', 0],\n",
       "       ['imagen_242.pgm', 0],\n",
       "       ['imagen_325.pgm', 0],\n",
       "       ['imagen_331.pgm', 1],\n",
       "       ['imagen_622.pgm', 0]], dtype=object)"
      ]
     },
     "execution_count": 125,
     "metadata": {},
     "output_type": "execute_result"
    }
   ],
   "source": [
    "df.sample(10).values"
   ]
  }
 ],
 "metadata": {
  "kernelspec": {
   "display_name": "Python 3",
   "language": "python",
   "name": "python3"
  },
  "language_info": {
   "codemirror_mode": {
    "name": "ipython",
    "version": 3
   },
   "file_extension": ".py",
   "mimetype": "text/x-python",
   "name": "python",
   "nbconvert_exporter": "python",
   "pygments_lexer": "ipython3",
   "version": "3.11.5"
  }
 },
 "nbformat": 4,
 "nbformat_minor": 2
}
